{
  "nbformat": 4,
  "nbformat_minor": 0,
  "metadata": {
    "colab": {
      "name": "RedNeuronal_PrediccionCancerDeMama_Techneider_IA.ipynb",
      "provenance": [],
      "collapsed_sections": [],
      "authorship_tag": "ABX9TyOMPGSN/+oBD33YxlGzRgqk",
      "include_colab_link": true
    },
    "kernelspec": {
      "name": "python3",
      "display_name": "Python 3"
    },
    "accelerator": "GPU"
  },
  "cells": [
    {
      "cell_type": "markdown",
      "metadata": {
        "id": "view-in-github",
        "colab_type": "text"
      },
      "source": [
        "<a href=\"https://colab.research.google.com/github/Techneider/RedNeuronal_PrediccionCancerDeMama/blob/main/RedNeuronal_PrediccionCancerDeMama_Techneider_IA.ipynb\" target=\"_parent\"><img src=\"https://colab.research.google.com/assets/colab-badge.svg\" alt=\"Open In Colab\"/></a>"
      ]
    },
    {
      "cell_type": "markdown",
      "metadata": {
        "id": "3AgV1516Tqe2"
      },
      "source": [
        "Importación de TensorFlow (recordar que pip es una herramienta y no un comando, por lo que debe ir pecedido de \"!\")"
      ]
    },
    {
      "cell_type": "code",
      "metadata": {
        "id": "nduQBOOeC91b"
      },
      "source": [
        "!pip install tensorflow"
      ],
      "execution_count": null,
      "outputs": []
    },
    {
      "cell_type": "code",
      "metadata": {
        "colab": {
          "base_uri": "https://localhost:8080/"
        },
        "id": "U_Sn93djDCJQ",
        "outputId": "6b198c9e-13a4-453c-d445-efa4674e1f18"
      },
      "source": [
        "import tensorflow as tf\r\n",
        "print(tf.__version__)"
      ],
      "execution_count": null,
      "outputs": [
        {
          "output_type": "stream",
          "text": [
            "2.4.0\n"
          ],
          "name": "stdout"
        }
      ]
    },
    {
      "cell_type": "markdown",
      "metadata": {
        "id": "cUq8lkHiUDCn"
      },
      "source": [
        "Se ha cerrado la conexión y reestablecido a travé de GPU, para importar Tensorflow para GPU."
      ]
    },
    {
      "cell_type": "code",
      "metadata": {
        "id": "ksJIumMWEZd2"
      },
      "source": [
        "!pip install tensorflow-gpu\r\n"
      ],
      "execution_count": null,
      "outputs": []
    },
    {
      "cell_type": "code",
      "metadata": {
        "colab": {
          "base_uri": "https://localhost:8080/"
        },
        "id": "npChBmVqEtZP",
        "outputId": "50436f9d-d7d3-4144-ae50-2ad2cd3a28dc"
      },
      "source": [
        "import tensorflow as tf\r\n",
        "print(tf.__version__)\r\n"
      ],
      "execution_count": null,
      "outputs": [
        {
          "output_type": "stream",
          "text": [
            "2.4.0\n"
          ],
          "name": "stdout"
        }
      ]
    },
    {
      "cell_type": "markdown",
      "metadata": {
        "id": "EFodXetmTpKL"
      },
      "source": [
        "**Para este estudio con red neuronal, se utilizarán los datos publicados por el Doctor William H. Wolberg del University of Wisconsin Hospitals. **\r\n",
        "https://archive.ics.uci.edu/ml/datasets/Breast+Cancer+Wisconsin+(Diagnostic)\r\n",
        "\r\n",
        "La base de datos origen dispone de más de 600 registros. Cada registro es el analisis de una muestra de celulas, y continene 30 valores de mediciones de ciertas caracteristicas analizadas, más un valor que indica resultado de si formaron un cancer benigno o maligno.\r\n",
        "\r\n",
        "La base de datos origen se ha tratado previamente de la siguiente forma:\r\n",
        "1. Los registros se han distribuido a su vez en 2 bases de datos.csv \r\n",
        "- La primera con más de 400 registros para el training de la red neuronal \r\n",
        "- La segunda com más de 150 registros para el test del entrenamiento.\r\n",
        "2. Cada una de las bases anteriores, training y test, se ha separado en 2 partes:\r\n",
        "- Parte X, contiene las mediciones = valores X = entrada de la red neuronal.\r\n",
        "- Parte Y, contiene el valor resultado = valor Y = salida o resultado (0 = benigno, 1= maligno).\r\n",
        "\r\n",
        "\r\n",
        "Finalement, como resultado de este tratamiento, se obtienen 4 archivos .csv (training X, training Y, test X, test Y).\r\n"
      ]
    },
    {
      "cell_type": "markdown",
      "metadata": {
        "id": "PMYJYVgVp2RO"
      },
      "source": [
        "Se cargan los datos .csv en pandas, que es una herramienta pandas para manejar **Dataframe**, que es como le llama al conjunto de row+columns (tabla de datos).\r\n"
      ]
    },
    {
      "cell_type": "code",
      "metadata": {
        "colab": {
          "resources": {
            "http://localhost:8080/nbextensions/google.colab/files.js": {
              "data": "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",
              "ok": true,
              "headers": [
                [
                  "content-type",
                  "application/javascript"
                ]
              ],
              "status": 200,
              "status_text": ""
            }
          },
          "base_uri": "https://localhost:8080/",
          "height": 174
        },
        "id": "_Gp8Zp60ofMS",
        "outputId": "ec163ca9-da42-45ed-ff9b-b9b2837ecd86"
      },
      "source": [
        "import pandas as pd\r\n",
        "\r\n",
        "from google.colab import files\r\n",
        "file = files.upload()\r\n",
        "X_train = pd.read_csv(\"xtrain.csv\", header=None)\r\n",
        "Y_train = pd.read_csv(\"ytrain.csv\", header=None)\r\n",
        "X_test = pd.read_csv(\"xtest.csv\", header=None)\r\n",
        "Y_test = pd.read_csv(\"ytest.csv\", header=None)"
      ],
      "execution_count": null,
      "outputs": [
        {
          "output_type": "display_data",
          "data": {
            "text/html": [
              "\n",
              "     <input type=\"file\" id=\"files-7dbbdd0d-ad1e-4d7d-9dfc-5404cea7df58\" name=\"files[]\" multiple disabled\n",
              "        style=\"border:none\" />\n",
              "     <output id=\"result-7dbbdd0d-ad1e-4d7d-9dfc-5404cea7df58\">\n",
              "      Upload widget is only available when the cell has been executed in the\n",
              "      current browser session. Please rerun this cell to enable.\n",
              "      </output>\n",
              "      <script src=\"/nbextensions/google.colab/files.js\"></script> "
            ],
            "text/plain": [
              "<IPython.core.display.HTML object>"
            ]
          },
          "metadata": {
            "tags": []
          }
        },
        {
          "output_type": "stream",
          "text": [
            "Saving xtest.csv to xtest.csv\n",
            "Saving xtrain.csv to xtrain.csv\n",
            "Saving ytest.csv to ytest.csv\n",
            "Saving ytrain.csv to ytrain.csv\n"
          ],
          "name": "stdout"
        }
      ]
    },
    {
      "cell_type": "markdown",
      "metadata": {
        "id": "DGyDHRdPqhhT"
      },
      "source": [
        "Se utiliza Keras en la API **Sequential** para crear la Red Neuronal que va a ser entrenada con estos datos. \r\n",
        "Esta Red Neuronal será empleada para predecir futuros valores que alimenten la presencia de cancer (0 = benigno, 1 = maligno).\r\n",
        "\r\n",
        "Formaremos una Red neuronal compuesta de 4 capas. Las 3 primeras capas con **funcion de transformación lineal rectificada (relu)** que evitarán la saturación de la funcion **sigmoidea** activada en la última capa. \r\n",
        "Esta función sigmoidea será la que clasifique todos los datos de entrada en 0 ó 1."
      ]
    },
    {
      "cell_type": "code",
      "metadata": {
        "id": "9Bi28dBcrGzf"
      },
      "source": [
        "from keras.models import Sequential\r\n",
        "from keras.layers import Dense\r\n",
        "\r\n",
        "classifier = Sequential() #Inicializando la Red Neuronal (ANN)\r\n",
        "\r\n",
        "classifier.add(Dense(units = 16, activation ='relu', input_dim = 30)) # Capa de 16 nodos, activación relu y entrada de dimension 30 = nº de mediciones\r\n",
        "classifier.add(Dense(units = 8, activation = 'relu')) # Capa de 8 nodos de activación relu\r\n",
        "classifier.add(Dense(units = 6, activation = 'relu')) # Capa de 6 nodos de activación relu\r\n",
        "classifier.add(Dense(units = 1, activation = 'sigmoid')) # Capa final de 1 nodo activada por una función sigmoidea"
      ],
      "execution_count": null,
      "outputs": []
    },
    {
      "cell_type": "markdown",
      "metadata": {
        "id": "Tt0FLzuDwKGy"
      },
      "source": [
        "\r\n",
        "Establecida la Red Neuronal, se especifica el **Optimizador** y la **Función de Perdida**.\r\n",
        "\r\n",
        "La función de perdida medirá en cada iteración que tan bien fue el entreamiento, y obtendrá un resultado como error de aproximación, para luego aplicar el optimizador e intentar reducir el error. "
      ]
    },
    {
      "cell_type": "code",
      "metadata": {
        "id": "z7qtw4Fk7UH-"
      },
      "source": [
        "classifier.compile(optimizer = 'rmsprop', loss = 'binary_crossentropy')"
      ],
      "execution_count": null,
      "outputs": []
    },
    {
      "cell_type": "markdown",
      "metadata": {
        "id": "HHJSSbMg7k_1"
      },
      "source": [
        "Se entrena la Red Neuronal usando la función **classifier.predict**, y se le pasan los valores de las X y de las Y, así como el numero muestras que componen el lote (**batch_size**) en el que se va a iterar (**epochs**) el optimizador para aproximar sus resultados, con el fin de establecer una relación que permita constuir la Red Neuronal que replique esos datos."
      ]
    },
    {
      "cell_type": "code",
      "metadata": {
        "colab": {
          "base_uri": "https://localhost:8080/"
        },
        "id": "VeHHP_vw8-aJ",
        "outputId": "9cc57545-368f-4296-e180-65700c827511"
      },
      "source": [
        "classifier.fit(X_train, Y_train, batch_size = 1, epochs = 100)"
      ],
      "execution_count": null,
      "outputs": [
        {
          "output_type": "stream",
          "text": [
            "Epoch 1/100\n",
            "455/455 [==============================] - 1s 2ms/step - loss: 0.0018\n",
            "Epoch 2/100\n",
            "455/455 [==============================] - 1s 2ms/step - loss: 7.7483e-04\n",
            "Epoch 3/100\n",
            "455/455 [==============================] - 1s 2ms/step - loss: 0.0021\n",
            "Epoch 4/100\n",
            "455/455 [==============================] - 1s 2ms/step - loss: 0.0027\n",
            "Epoch 5/100\n",
            "455/455 [==============================] - 1s 2ms/step - loss: 3.9922e-04\n",
            "Epoch 6/100\n",
            "455/455 [==============================] - 1s 2ms/step - loss: 0.0100\n",
            "Epoch 7/100\n",
            "455/455 [==============================] - 1s 2ms/step - loss: 0.0039\n",
            "Epoch 8/100\n",
            "455/455 [==============================] - 1s 2ms/step - loss: 0.0020\n",
            "Epoch 9/100\n",
            "455/455 [==============================] - 1s 2ms/step - loss: 0.0073\n",
            "Epoch 10/100\n",
            "455/455 [==============================] - 1s 2ms/step - loss: 0.0015\n",
            "Epoch 11/100\n",
            "455/455 [==============================] - 1s 2ms/step - loss: 0.0015\n",
            "Epoch 12/100\n",
            "455/455 [==============================] - 1s 2ms/step - loss: 0.0016\n",
            "Epoch 13/100\n",
            "455/455 [==============================] - 1s 2ms/step - loss: 0.0089\n",
            "Epoch 14/100\n",
            "455/455 [==============================] - 1s 2ms/step - loss: 0.0141\n",
            "Epoch 15/100\n",
            "455/455 [==============================] - 1s 2ms/step - loss: 0.0063\n",
            "Epoch 16/100\n",
            "455/455 [==============================] - 1s 2ms/step - loss: 0.0025\n",
            "Epoch 17/100\n",
            "455/455 [==============================] - 1s 2ms/step - loss: 0.0120\n",
            "Epoch 18/100\n",
            "455/455 [==============================] - 1s 2ms/step - loss: 0.0036\n",
            "Epoch 19/100\n",
            "455/455 [==============================] - 1s 2ms/step - loss: 0.0046\n",
            "Epoch 20/100\n",
            "455/455 [==============================] - 1s 2ms/step - loss: 0.0175\n",
            "Epoch 21/100\n",
            "455/455 [==============================] - 1s 2ms/step - loss: 0.0032\n",
            "Epoch 22/100\n",
            "455/455 [==============================] - 1s 2ms/step - loss: 0.0170\n",
            "Epoch 23/100\n",
            "455/455 [==============================] - 1s 2ms/step - loss: 0.0058\n",
            "Epoch 24/100\n",
            "455/455 [==============================] - 1s 2ms/step - loss: 3.9252e-04\n",
            "Epoch 25/100\n",
            "455/455 [==============================] - 1s 2ms/step - loss: 0.0028\n",
            "Epoch 26/100\n",
            "455/455 [==============================] - 1s 2ms/step - loss: 0.0044\n",
            "Epoch 27/100\n",
            "455/455 [==============================] - 1s 2ms/step - loss: 0.0020\n",
            "Epoch 28/100\n",
            "455/455 [==============================] - 1s 2ms/step - loss: 0.0013\n",
            "Epoch 29/100\n",
            "455/455 [==============================] - 1s 2ms/step - loss: 0.0149\n",
            "Epoch 30/100\n",
            "455/455 [==============================] - 1s 2ms/step - loss: 0.0070\n",
            "Epoch 31/100\n",
            "455/455 [==============================] - 1s 2ms/step - loss: 0.0103\n",
            "Epoch 32/100\n",
            "455/455 [==============================] - 1s 2ms/step - loss: 0.0028\n",
            "Epoch 33/100\n",
            "455/455 [==============================] - 1s 2ms/step - loss: 0.0012\n",
            "Epoch 34/100\n",
            "455/455 [==============================] - 1s 2ms/step - loss: 3.8056e-04\n",
            "Epoch 35/100\n",
            "455/455 [==============================] - 1s 2ms/step - loss: 0.0025\n",
            "Epoch 36/100\n",
            "455/455 [==============================] - 1s 2ms/step - loss: 1.2003e-04\n",
            "Epoch 37/100\n",
            "455/455 [==============================] - 1s 2ms/step - loss: 0.0061\n",
            "Epoch 38/100\n",
            "455/455 [==============================] - 1s 2ms/step - loss: 0.0144\n",
            "Epoch 39/100\n",
            "455/455 [==============================] - 1s 2ms/step - loss: 0.0071\n",
            "Epoch 40/100\n",
            "455/455 [==============================] - 1s 2ms/step - loss: 0.0022\n",
            "Epoch 41/100\n",
            "455/455 [==============================] - 1s 2ms/step - loss: 0.0031\n",
            "Epoch 42/100\n",
            "455/455 [==============================] - 1s 2ms/step - loss: 0.0030\n",
            "Epoch 43/100\n",
            "455/455 [==============================] - 1s 2ms/step - loss: 0.0063\n",
            "Epoch 44/100\n",
            "455/455 [==============================] - 1s 2ms/step - loss: 0.0121\n",
            "Epoch 45/100\n",
            "455/455 [==============================] - 1s 2ms/step - loss: 4.5057e-04\n",
            "Epoch 46/100\n",
            "455/455 [==============================] - 1s 2ms/step - loss: 0.0027\n",
            "Epoch 47/100\n",
            "455/455 [==============================] - 1s 2ms/step - loss: 9.1881e-05\n",
            "Epoch 48/100\n",
            "455/455 [==============================] - 1s 2ms/step - loss: 0.0039\n",
            "Epoch 49/100\n",
            "455/455 [==============================] - 1s 2ms/step - loss: 0.0097\n",
            "Epoch 50/100\n",
            "455/455 [==============================] - 1s 2ms/step - loss: 0.0055\n",
            "Epoch 51/100\n",
            "455/455 [==============================] - 1s 2ms/step - loss: 0.0012\n",
            "Epoch 52/100\n",
            "455/455 [==============================] - 1s 2ms/step - loss: 0.0058\n",
            "Epoch 53/100\n",
            "455/455 [==============================] - 1s 2ms/step - loss: 0.0028\n",
            "Epoch 54/100\n",
            "455/455 [==============================] - 1s 2ms/step - loss: 0.0010\n",
            "Epoch 55/100\n",
            "455/455 [==============================] - 1s 2ms/step - loss: 0.0093\n",
            "Epoch 56/100\n",
            "455/455 [==============================] - 1s 2ms/step - loss: 0.0013\n",
            "Epoch 57/100\n",
            "455/455 [==============================] - 1s 2ms/step - loss: 9.5106e-04\n",
            "Epoch 58/100\n",
            "455/455 [==============================] - 1s 2ms/step - loss: 0.0017\n",
            "Epoch 59/100\n",
            "455/455 [==============================] - 1s 2ms/step - loss: 7.0265e-04\n",
            "Epoch 60/100\n",
            "455/455 [==============================] - 1s 2ms/step - loss: 8.3835e-04\n",
            "Epoch 61/100\n",
            "455/455 [==============================] - 1s 2ms/step - loss: 5.9619e-04\n",
            "Epoch 62/100\n",
            "455/455 [==============================] - 1s 2ms/step - loss: 0.0055\n",
            "Epoch 63/100\n",
            "455/455 [==============================] - 1s 2ms/step - loss: 7.7554e-04\n",
            "Epoch 64/100\n",
            "455/455 [==============================] - 1s 2ms/step - loss: 9.4683e-06\n",
            "Epoch 65/100\n",
            "455/455 [==============================] - 1s 2ms/step - loss: 0.0018\n",
            "Epoch 66/100\n",
            "455/455 [==============================] - 1s 2ms/step - loss: 0.0053\n",
            "Epoch 67/100\n",
            "455/455 [==============================] - 1s 2ms/step - loss: 2.0247e-04\n",
            "Epoch 68/100\n",
            "455/455 [==============================] - 1s 2ms/step - loss: 3.9774e-04\n",
            "Epoch 69/100\n",
            "455/455 [==============================] - 1s 2ms/step - loss: 0.0036\n",
            "Epoch 70/100\n",
            "455/455 [==============================] - 1s 2ms/step - loss: 3.8069e-05\n",
            "Epoch 71/100\n",
            "455/455 [==============================] - 1s 2ms/step - loss: 3.3075e-06\n",
            "Epoch 72/100\n",
            "455/455 [==============================] - 1s 2ms/step - loss: 1.1857e-04\n",
            "Epoch 73/100\n",
            "455/455 [==============================] - 1s 2ms/step - loss: 2.1253e-06\n",
            "Epoch 74/100\n",
            "455/455 [==============================] - 1s 2ms/step - loss: 2.2390e-05\n",
            "Epoch 75/100\n",
            "455/455 [==============================] - 1s 2ms/step - loss: 8.5585e-04\n",
            "Epoch 76/100\n",
            "455/455 [==============================] - 1s 2ms/step - loss: 1.2662e-05\n",
            "Epoch 77/100\n",
            "455/455 [==============================] - 1s 2ms/step - loss: 2.5456e-05\n",
            "Epoch 78/100\n",
            "455/455 [==============================] - 1s 2ms/step - loss: 1.4029e-05\n",
            "Epoch 79/100\n",
            "455/455 [==============================] - 1s 2ms/step - loss: 5.6391e-04\n",
            "Epoch 80/100\n",
            "455/455 [==============================] - 1s 2ms/step - loss: 8.7481e-05\n",
            "Epoch 81/100\n",
            "455/455 [==============================] - 1s 2ms/step - loss: 5.4092e-05\n",
            "Epoch 82/100\n",
            "455/455 [==============================] - 1s 2ms/step - loss: 2.2416e-04\n",
            "Epoch 83/100\n",
            "455/455 [==============================] - 1s 2ms/step - loss: 1.8042e-06\n",
            "Epoch 84/100\n",
            "455/455 [==============================] - 1s 2ms/step - loss: 7.0089e-05\n",
            "Epoch 85/100\n",
            "455/455 [==============================] - 1s 2ms/step - loss: 3.4633e-06\n",
            "Epoch 86/100\n",
            "455/455 [==============================] - 1s 2ms/step - loss: 2.5936e-05\n",
            "Epoch 87/100\n",
            "455/455 [==============================] - 1s 2ms/step - loss: 5.6754e-04\n",
            "Epoch 88/100\n",
            "455/455 [==============================] - 1s 2ms/step - loss: 1.4356e-06\n",
            "Epoch 89/100\n",
            "455/455 [==============================] - 1s 2ms/step - loss: 2.0203e-06\n",
            "Epoch 90/100\n",
            "455/455 [==============================] - 1s 2ms/step - loss: 3.2872e-04\n",
            "Epoch 91/100\n",
            "455/455 [==============================] - 1s 2ms/step - loss: 1.8116e-04\n",
            "Epoch 92/100\n",
            "455/455 [==============================] - 1s 2ms/step - loss: 1.2322e-05\n",
            "Epoch 93/100\n",
            "455/455 [==============================] - 1s 2ms/step - loss: 1.6716e-06\n",
            "Epoch 94/100\n",
            "455/455 [==============================] - 1s 2ms/step - loss: 3.8531e-05\n",
            "Epoch 95/100\n",
            "455/455 [==============================] - 1s 2ms/step - loss: 1.1161e-05\n",
            "Epoch 96/100\n",
            "455/455 [==============================] - 1s 2ms/step - loss: 3.0152e-06\n",
            "Epoch 97/100\n",
            "455/455 [==============================] - 1s 2ms/step - loss: 3.2980e-06\n",
            "Epoch 98/100\n",
            "455/455 [==============================] - 1s 2ms/step - loss: 3.6933e-06\n",
            "Epoch 99/100\n",
            "455/455 [==============================] - 1s 2ms/step - loss: 6.2667e-07\n",
            "Epoch 100/100\n",
            "455/455 [==============================] - 1s 2ms/step - loss: 3.8467e-06\n"
          ],
          "name": "stdout"
        },
        {
          "output_type": "execute_result",
          "data": {
            "text/plain": [
              "<tensorflow.python.keras.callbacks.History at 0x7f34a0576f98>"
            ]
          },
          "metadata": {
            "tags": []
          },
          "execution_count": 8
        }
      ]
    },
    {
      "cell_type": "markdown",
      "metadata": {
        "id": "QRg4Xkgd_WXE"
      },
      "source": [
        "Despues de esto, la Red Neuronal habrá mejorado su conjetura.\r\n",
        "Es hora de predecir nuevos valores con esta Red, usando **classifier.predict** y pasandole los valores X que aislamos para realizar el test, y que la red desconoce. \r\n",
        "\r\n",
        "El resultado será una predicción en forma de probabilidad, por lo que deberemos limpiarla diciendo que si la probabilidad es mayor de 0.5 establezca 1 y si es menor establezca 0."
      ]
    },
    {
      "cell_type": "code",
      "metadata": {
        "id": "F2uctCYmAu1q"
      },
      "source": [
        "Y_pred = classifier.predict(X_test)\r\n",
        "Y_pred = [1 if y>=0.5 else 0 for y in Y_pred ]"
      ],
      "execution_count": null,
      "outputs": []
    },
    {
      "cell_type": "markdown",
      "metadata": {
        "id": "c_sj29o5Bw52"
      },
      "source": [
        "Finalmente comprobamos que tal ha sido esta predicción, creando un breve codigo que se encargará de contrastar los valores Y_pred obtenidos en la predicción, contra los valores reales que habiamos aislado en la tabla Y_test.\r\n",
        "\r\n",
        "Cada fallo de coincidencia entre el valor de **Y_pred** e **Y_test**, incrementará el valor de la variable **fallos**, indicandonos así cuantos errores de predicción ha cometido nuestra Red-Neuronal."
      ]
    },
    {
      "cell_type": "code",
      "metadata": {
        "colab": {
          "base_uri": "https://localhost:8080/"
        },
        "id": "heuvXNCkDHNT",
        "outputId": "43f4d2c1-86a5-4f86-9c8f-c34ee973fd96"
      },
      "source": [
        "total = 0\r\n",
        "right = 0\r\n",
        "wrong = 0\r\n",
        "for i in Y_pred:\r\n",
        "  total = total +1\r\n",
        "  if(Y_test.at[i,0] == Y_pred[i]): # Comparación de la tabla Y_Test con el valor en Y_pred\r\n",
        "    right = right+1\r\n",
        "  else:\r\n",
        "    wrong=wrong+1\r\n",
        "print(\"Total = \" + str(total))\r\n",
        "print(\"Right = \" + str(right))\r\n",
        "print(\"Wrong = \" + str(wrong))"
      ],
      "execution_count": null,
      "outputs": [
        {
          "output_type": "stream",
          "text": [
            "Total = 114\n",
            "Right = 114\n",
            "Wrong = 0\n"
          ],
          "name": "stdout"
        }
      ]
    }
  ]
}